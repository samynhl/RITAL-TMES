{
 "cells": [
  {
   "cell_type": "code",
   "execution_count": 83,
   "id": "7988e975",
   "metadata": {},
   "outputs": [],
   "source": [
    "import heapq as hq\n",
    "from porter import *\n",
    "from collections import Counter\n",
    "import re\n",
    "import numpy as np"
   ]
  },
  {
   "cell_type": "markdown",
   "id": "b4fbd7c7",
   "metadata": {},
   "source": [
    "## Exercice 1 - indexation d’un petit jeu de données"
   ]
  },
  {
   "cell_type": "code",
   "execution_count": 50,
   "id": "0fbf28ed",
   "metadata": {},
   "outputs": [],
   "source": [
    "doc1 = \"the new home has been saled on top forecasts\"\n",
    "doc2 = \"the home sales rise in july\"\n",
    "doc3 = \"there is an increase in home sales in july\"\n",
    "doc4 = \"july encounter a new home sales rise\"\n",
    "\n",
    "corpus = [doc1, doc2, doc3, doc4]\n",
    "\n",
    "mots_vides = [\"the\", \"a\", \"an\", \"on\", \"behind\", \"under\", \"there\", \"in\", \"on\"]"
   ]
  },
  {
   "cell_type": "code",
   "execution_count": 51,
   "id": "f5004141",
   "metadata": {},
   "outputs": [
    {
     "data": {
      "text/plain": [
       "{'new': 1, 'home': 1, 'ha': 1, 'been': 1, 'sale': 1, 'top': 1, 'forecast': 1}"
      ]
     },
     "execution_count": 51,
     "metadata": {},
     "output_type": "execute_result"
    }
   ],
   "source": [
    "def preprocess(doc):\n",
    "    # Séparer les mots\n",
    "    mots = [m.lower() for m in re.split(r\"\\W+\", doc) if m not in mots_vides] # \\W tout caractere non alphanumerique\n",
    "    return dict(Counter([stem(m) for m in mots]))\n",
    "##    \n",
    "preprocess(doc1)"
   ]
  },
  {
   "cell_type": "code",
   "execution_count": 68,
   "id": "744c9017",
   "metadata": {},
   "outputs": [
    {
     "data": {
      "text/plain": [
       "{0: {'new': 1,\n",
       "  'home': 1,\n",
       "  'ha': 1,\n",
       "  'been': 1,\n",
       "  'sale': 1,\n",
       "  'top': 1,\n",
       "  'forecast': 1},\n",
       " 1: {'home': 1, 'sale': 1, 'rise': 1, 'juli': 1},\n",
       " 2: {'is': 1, 'increas': 1, 'home': 1, 'sale': 1, 'juli': 1},\n",
       " 3: {'juli': 1, 'encount': 1, 'new': 1, 'home': 1, 'sale': 1, 'rise': 1}}"
      ]
     },
     "execution_count": 68,
     "metadata": {},
     "output_type": "execute_result"
    }
   ],
   "source": [
    "def index_simple(corpus):\n",
    "    d = {}\n",
    "    for i,doc in enumerate(corpus):\n",
    "        d[i] = preprocess(doc)\n",
    "    return d\n",
    "\n",
    "index_simple(corpus)"
   ]
  },
  {
   "cell_type": "code",
   "execution_count": 69,
   "id": "37f75d77",
   "metadata": {},
   "outputs": [
    {
     "data": {
      "text/plain": [
       "{'new': {0: 1, 3: 1},\n",
       " 'home': {0: 1, 1: 1, 2: 1, 3: 1},\n",
       " 'ha': {0: 1},\n",
       " 'been': {0: 1},\n",
       " 'sale': {0: 1, 1: 1, 2: 1, 3: 1},\n",
       " 'top': {0: 1},\n",
       " 'forecast': {0: 1},\n",
       " 'rise': {1: 1, 3: 1},\n",
       " 'juli': {1: 1, 2: 1, 3: 1},\n",
       " 'is': {2: 1},\n",
       " 'increas': {2: 1},\n",
       " 'encount': {3: 1}}"
      ]
     },
     "execution_count": 69,
     "metadata": {},
     "output_type": "execute_result"
    }
   ],
   "source": [
    "def index_inverse(corpus):\n",
    "    d = {}\n",
    "    ind = index_simple(corpus)\n",
    "    for k1,v1 in ind.items():\n",
    "        for k2,v2 in ind[k1].items():\n",
    "            if k2 in d.keys():\n",
    "                d[k2][k1] = v2\n",
    "            else:\n",
    "                d[k2] = {k1 : v2}\n",
    "    return d\n",
    "\n",
    "index_inverse(corpus)"
   ]
  },
  {
   "cell_type": "code",
   "execution_count": 70,
   "id": "64ca3521",
   "metadata": {},
   "outputs": [
    {
     "data": {
      "text/plain": [
       "{'new': {0: 0.6931471805599453, 3: 0.6931471805599453},\n",
       " 'home': {0: 0.0, 1: 0.0, 2: 0.0, 3: 0.0},\n",
       " 'ha': {0: 1.3862943611198906},\n",
       " 'been': {0: 1.3862943611198906},\n",
       " 'sale': {0: 0.0, 1: 0.0, 2: 0.0, 3: 0.0},\n",
       " 'top': {0: 1.3862943611198906},\n",
       " 'forecast': {0: 1.3862943611198906},\n",
       " 'rise': {1: 0.6931471805599453, 3: 0.6931471805599453},\n",
       " 'juli': {1: 0.28768207245178085,\n",
       "  2: 0.28768207245178085,\n",
       "  3: 0.28768207245178085},\n",
       " 'is': {2: 1.3862943611198906},\n",
       " 'increas': {2: 1.3862943611198906},\n",
       " 'encount': {3: 1.3862943611198906}}"
      ]
     },
     "execution_count": 70,
     "metadata": {},
     "output_type": "execute_result"
    }
   ],
   "source": [
    "## Pondération tf-idf\n",
    "def index_inverse_tfidf(corpus):\n",
    "    ind_inv = index_inverse(corpus)\n",
    "    n = len(corpus)\n",
    "    for k,v in ind_inv.items():\n",
    "        for k2,v2 in v.items():  \n",
    "            ind_inv[k][k2] = v2*np.log(n/len(v))\n",
    "    return ind_inv\n",
    "\n",
    "index_inverse_tfidf(corpus)"
   ]
  },
  {
   "cell_type": "markdown",
   "id": "85e5863c",
   "metadata": {},
   "source": [
    " ## Exercice 2 – Rechercher avec des index"
   ]
  },
  {
   "cell_type": "markdown",
   "id": "624e6e65",
   "metadata": {},
   "source": [
    "### TAAT Algorithm"
   ]
  },
  {
   "cell_type": "code",
   "execution_count": 105,
   "id": "95d2379f",
   "metadata": {},
   "outputs": [],
   "source": [
    "# pip install ir_datasets"
   ]
  },
  {
   "cell_type": "code",
   "execution_count": 107,
   "id": "33240be1",
   "metadata": {},
   "outputs": [
    {
     "name": "stdout",
     "output_type": "stream",
     "text": [
      "TrecQuery(query_id='1', title='coronavirus origin', description='what is the origin of COVID-19', narrative=\"seeking range of information about the SARS-CoV-2 virus's origin, including its evolution, animal source, and first transmission into humans\")\n",
      "TrecQuery(query_id='2', title='coronavirus response to weather changes', description='how does the coronavirus respond to changes in the weather', narrative='seeking range of information about the SARS-CoV-2 virus viability in different weather/climate conditions as well as information related to transmission of the virus in different climate conditions')\n",
      "TrecQuery(query_id='3', title='coronavirus immunity', description='will SARS-CoV2 infected people develop immunity? Is cross protection possible?', narrative='seeking studies of immunity developed due to infection with SARS-CoV2 or cross protection gained due to infection with other coronavirus types')\n",
      "TrecQuery(query_id='4', title='how do people die from the coronavirus', description='what causes death from Covid-19?', narrative='Studies looking at mechanisms of death from Covid-19.')\n",
      "TrecQuery(query_id='5', title='animal models of COVID-19', description='what drugs have been active against SARS-CoV or SARS-CoV-2 in animal studies?', narrative='Papers that describe the results  of testing drugs that bind to spike proteins of the virus or any other drugs in any animal models. Papers about SARS-CoV-2 infection in cell culture assays are also relevant.')\n",
      "TrecQuery(query_id='6', title='coronavirus test rapid testing', description='what types of rapid testing for Covid-19 have been developed?', narrative='Looking for studies identifying ways to diagnose Covid-19 more rapidly.')\n",
      "TrecQuery(query_id='7', title='serological tests for coronavirus', description='are there serological tests that detect antibodies to coronavirus?', narrative='Looking for assays that measure immune response to COVID-19 that will help determine past infection and subsequent possible immunity.')\n",
      "TrecQuery(query_id='8', title='coronavirus under reporting', description='how has lack of testing availability led to underreporting of true incidence of Covid-19?', narrative='Looking for studies answering questions of impact of lack of complete testing for Covid-19 on incidence and prevalence of Covid-19.')\n",
      "TrecQuery(query_id='9', title='coronavirus in Canada', description='how has COVID-19 affected Canada', narrative='seeking data related to infections (confirm, suspected, and projected) and health outcomes (symptoms, hospitalization, intensive care, mortality)')\n",
      "TrecQuery(query_id='10', title='coronavirus social distancing impact', description='has social distancing had an impact on slowing the spread of COVID-19?', narrative=\"seeking specific information on studies that have measured COVID-19's transmission in one or more social distancing (or non-social distancing) approaches\")\n",
      "TrecQuery(query_id='11', title='coronavirus hospital rationing', description='what are the guidelines for triaging patients infected with coronavirus?', narrative='Seeking information on any guidelines for prioritizing COVID-19 patients infected with coronavirus based on demographics, clinical signs, serology and other tests.')\n",
      "TrecQuery(query_id='12', title='coronavirus quarantine', description='what are best practices in hospitals and at home in maintaining quarantine?', narrative='Seeking information on best practices for activities and duration of quarantine for those exposed and/ infected to COVID-19 virus.')\n",
      "TrecQuery(query_id='13', title='how does coronavirus spread', description='what are the transmission routes of coronavirus?', narrative='Looking for information on all possible ways to contract COVID-19 from people, animals and objects')\n",
      "TrecQuery(query_id='14', title='coronavirus super spreaders', description='what evidence is there related to COVID-19 super spreaders', narrative='seeking range of information related to the number and proportion of super spreaders, their patterns of behavior that lead to spread, and potential prevention strategies targeted specifically toward super spreaders')\n",
      "TrecQuery(query_id='15', title='coronavirus outside body', description='how long can the coronavirus live outside the body', narrative=\"seeking range of information on the SARS-CoV-2's virus's survival in different environments (surfaces, liquids, etc.) outside the human body while still being viable for transmission to another human\")\n",
      "TrecQuery(query_id='16', title='how long does coronavirus survive on surfaces', description='how long does coronavirus remain stable  on surfaces?', narrative='Studies of time SARS-CoV-2 remains stable after being deposited from an infected person on everyday surfaces in a household or hospital setting, such as through coughing or touching objects.')\n",
      "TrecQuery(query_id='17', title='coronavirus clinical trials', description='are there any clinical trials available for the coronavirus', narrative='seeking specific COVID-19 clinical trials ranging from trials in recruitment to completed trials with results')\n",
      "TrecQuery(query_id='18', title='masks prevent coronavirus', description='what are the best masks for preventing infection by Covid-19?', narrative='What types of masks should or should not be used to prevent infection by Covid-19?')\n",
      "TrecQuery(query_id='19', title='what alcohol sanitizer kills coronavirus', description='what type of hand sanitizer is needed to destroy Covid-19?', narrative='Studies assessing chemicals and their concentrations needed to destroy the Covid-19 virus.')\n",
      "TrecQuery(query_id='20', title='coronavirus and ACE inhibitors', description='are patients taking Angiotensin-converting enzyme inhibitors (ACE) at increased risk for COVID-19?', narrative='Looking for information on interactions between  coronavirus and  angiotensin converting enzyme 2 (ACE2) receptors, risk for patients taking these medications, and recommendations for these patients.')\n",
      "TrecQuery(query_id='21', title='coronavirus mortality', description='what are the mortality rates overall and in specific populations', narrative='Seeking  information on COVID-19 fatality rates in different countries and in different population groups based on gender, blood types, or other factors')\n",
      "TrecQuery(query_id='22', title='coronavirus heart impacts', description='are cardiac complications likely in patients with COVID-19?', narrative='Seeking information on the types, frequency and mechanisms of cardiac complications caused by coronavirus.')\n",
      "TrecQuery(query_id='23', title='coronavirus hypertension', description='what kinds of complications related to COVID-19 are associated with hypertension?', narrative='seeking specific outcomes that hypertensive  (any type) patients are more/less likely to face if infected with the virus')\n",
      "TrecQuery(query_id='24', title='coronavirus diabetes', description='what kinds of complications related to COVID-19 are associated with diabetes', narrative='seeking specific outcomes that diabetic (any type) patients are more/less likely to face if infected with the virus')\n",
      "TrecQuery(query_id='25', title='coronavirus biomarkers', description='which biomarkers predict the severe clinical course of 2019-nCOV infection?', narrative='Looking for information on biomarkers that predict disease outcomes in people infected with coronavirus, specifically those that predict severe and fatal outcomes.')\n",
      "TrecQuery(query_id='26', title='coronavirus early symptoms', description='what are the initial symptoms of Covid-19?', narrative='Studies of patients and the first clinical manifestations they develop upon active infection?')\n",
      "TrecQuery(query_id='27', title='coronavirus asymptomatic', description='what is known about those infected with Covid-19 but are asymptomatic?', narrative='Studies of people who are known to be infected with Covid-19 but show no symptoms?')\n",
      "TrecQuery(query_id='28', title='coronavirus hydroxychloroquine', description='what evidence is there for the value of hydroxychloroquine in treating Covid-19?', narrative='Basic science or clinical studies assessing the benefit and harms of treating Covid-19 with hydroxychloroquine.')\n",
      "TrecQuery(query_id='29', title='coronavirus drug repurposing', description='which SARS-CoV-2 proteins-human proteins interactions indicate potential for drug targets. Are there approved drugs that can be repurposed based on this information?', narrative='Seeking information about protein-protein interactions for any of the SARS-CoV-2  structural proteins that represent a promising therapeutic target,  and the drug  molecules that may inhibit the virus and the host cell receptors at entry step.')\n",
      "TrecQuery(query_id='30', title='coronavirus remdesivir', description='is remdesivir an effective treatment for COVID-19', narrative='seeking specific information on clinical outcomes in COVID-19 patients treated with remdesivir')\n",
      "TrecQuery(query_id='31', title='difference between coronavirus and flu', description='How does the coronavirus differ from seasonal flu?', narrative='Includes studies ranging from those focusing on genomic differences to global public health impacts, but must draw direct comparisons between COVID-19 and seasonal influenza.')\n",
      "TrecQuery(query_id='32', title='coronavirus subtypes', description='Does SARS-CoV-2 have any subtypes, and if so what are they?', narrative='Papers that discuss subtypes of the virus, from named subtypes to speculative subtypes based on genomic or geographic clustering.')\n",
      "TrecQuery(query_id='33', title='coronavirus vaccine candidates', description='What vaccine candidates are being tested for Covid-19?', narrative='Seeking studies that discuss possible, but specific, COVID-19 vaccines. Includes articles from those describing the mechanisms of action of specific proposed vaccines to actual clinical trials, but excluding articles that do not name a specific vaccine candidate.')\n",
      "TrecQuery(query_id='34', title='coronavirus recovery', description='What are the longer-term complications of those who recover from COVID-19?', narrative='Seeking information on the health outcomes for those that recover from the virus. Excludes studies only focusing on adverse effects related to a particular COVID-19 drug.')\n",
      "TrecQuery(query_id='35', title='coronavirus public datasets', description='What new public datasets are available related to COVID-19?', narrative='Seeking articles that specifically release new data related to SARS-CoV-2 or COVID-19, including genomic data, patient data, public health data, etc. Articles that reference previously existing datasets are not relevant.')\n",
      "TrecQuery(query_id='36', title='SARS-CoV-2 spike structure', description='What is the protein structure of the SARS-CoV-2 spike?', narrative='Looking for studies of the structure of the spike protein on the virus using any methods, such as cryo-EM or crystallography')\n",
      "TrecQuery(query_id='37', title='SARS-CoV-2 phylogenetic analysis', description='What is the result of phylogenetic analysis of SARS-CoV-2 genome sequence?', narrative='Looking for a range of studies which provide the results of phylogenetic network analysis on the SARS-CoV-2 genome')\n",
      "TrecQuery(query_id='38', title='COVID inflammatory response', description='What is the mechanism of inflammatory response and pathogenesis of COVID-19 cases?', narrative='Looking for a range of studies which describes the inflammatory response cells and pathogenesis during the Coronavirus Disease 2019 (COVID-19) outbreak, including the mechanism of anti-inflammatory drugs, corticosteroids, and vitamin supplements')\n",
      "TrecQuery(query_id='39', title='COVID-19 cytokine storm', description='What is the mechanism of cytokine storm syndrome on the COVID-19?', narrative='Looking for studies that describes mechanism of development of cytokine storm syndrome among COVID-19 cases and the range of drugs used for the therapy of cytokine storm')\n",
      "TrecQuery(query_id='40', title='coronavirus mutations', description='What are the observed mutations in the SARS-CoV-2 genome and how often do the mutations occur?', narrative='Looking for studies that describes the emergence of genomic diversity of the coronavirus due to recurrent mutations which explore the potential genomic site of the mutation, mechanisms and its potential or observed clinical implications in the pathogenicity of the virus')\n",
      "TrecQuery(query_id='41', title='COVID-19 in African-Americans', description='What are the impacts of COVID-19 among African-Americans that differ from the rest of the U.S. population?', narrative='Looking for studies that analyze burden of illness and death among the African-American/black racial/ethnic group. This includes potential reasons for transmission, morbidity, and mortality. This may include discussion of other minority groups, but all studies should contain specific information on the health disparities faced by African-Americans in this pandemic.')\n",
      "TrecQuery(query_id='42', title='Vitamin D and COVID-19', description='Does Vitamin D impact COVID-19 prevention and treatment?', narrative='This includes studies describing possible role of Vitamin D in prevention of COVID-19, suppression of cytokine storm, clinical outcomes, and associations between Vitamin D status and COVID-19 mortality.')\n",
      "TrecQuery(query_id='43', title='violence during pandemic', description='How has the COVID-19 pandemic impacted violence in society, including violent crimes?', narrative='Looking for analyses and data on how the pandemic is impacting rates of violence, including domestic/family violence related to quarantine.')\n",
      "TrecQuery(query_id='44', title='impact of masks on coronavirus transmission', description='How much impact do masks have on preventing the spread of the COVID-19?', narrative='Looking for studies of how masks slow SARS-CoV-2 transmission, including impact on R0. Studies can include both lab and population studies.')\n",
      "TrecQuery(query_id='45', title='coronavirus mental health impact', description='How has the COVID-19 pandemic impacted mental health?', narrative='Includes increasing/decreasing rates of depression, anxiety, panic disorder, and other psychiatric and mental health conditions.')\n",
      "TrecQuery(query_id='46', title='dexamethasone coronavirus', description='what evidence is there for dexamethasone as a treatment for COVID-19?', narrative='Looking for studies on the impact of dexamethasone treatment in COVID-19 patients, including health benefits as well as adverse effects. This also includes specific populations that are benefitted/harmed by dexamethasone.')\n",
      "TrecQuery(query_id='47', title='COVID-19 outcomes in children', description='what are the health outcomes for children who contract COVID-19?', narrative='Looking for studies on health outcomes in children related to COVID-19. This includes studies attempting to explain the underlying biological mechanisms for why children differ from adults in response to infection.')\n",
      "TrecQuery(query_id='48', title='school reopening coronavirus', description='what are the benefits and risks of re-opening schools in the midst of the COVID-19 pandemic?', narrative='With the possibility of schools re-opening while the COVID-19 pandemic is still ongoing, this topic is looking for evidence or projections on what the potential implications of this are in terms of COVID-19 cases, hospitalizations, or deaths, as well as other benefits or harms to re-opening schools. This includes both the impact on students, teachers, families, and the wider community.')\n",
      "TrecQuery(query_id='49', title='post-infection COVID-19 immunity', description='do individuals who recover from COVID-19 show sufficient immune response, including antibody levels and T-cell mediated immunity, to prevent re-infection?', narrative='There is concern about re-infection for COVID-19, so this topic is looking for studies suggesting post-infection immunity, including post-infection antibody levels (over time) and evidence for individuals who have been infected more than once.')\n",
      "TrecQuery(query_id='50', title='mRNA vaccine coronavirus', description='what is known about an mRNA vaccine for the SARS-CoV-2 virus?', narrative='Looking for studies specifically focusing on mRNA vaccines for COVID-19, including how mRNA vaccines work, why they are promising, and any results from actual clinical studies.')\n"
     ]
    }
   ],
   "source": [
    "import ir_datasets\n",
    "\n",
    "dataset = ir_datasets.load('cord19/trec-covid')\n",
    "for query in dataset.queries_iter():\n",
    "    print(query)"
   ]
  },
  {
   "cell_type": "code",
   "execution_count": 106,
   "id": "d7c555e5",
   "metadata": {},
   "outputs": [
    {
     "data": {
      "text/plain": [
       "Dataset(id='cord19/trec-covid', provides=['docs', 'queries', 'qrels'])"
      ]
     },
     "execution_count": 106,
     "metadata": {},
     "output_type": "execute_result"
    }
   ],
   "source": [
    "def add_if(doc_score, heap, k):\n",
    "    if len(heap)<k:\n",
    "        heapq.push(heap, ds)\n",
    "    elif heap[0][1]<ds.score:\n",
    "        heapq.heapreplace(heap, ds)"
   ]
  },
  {
   "cell_type": "code",
   "execution_count": 101,
   "id": "ea9288b0",
   "metadata": {},
   "outputs": [
    {
     "name": "stdout",
     "output_type": "stream",
     "text": [
      "{'new': {0: 1, 3: 1}, 'home': {0: 1, 1: 1, 2: 1, 3: 1}}\n"
     ]
    },
    {
     "data": {
      "text/plain": [
       "[(0, 2), (3, 2), (1, 1), (2, 1)]"
      ]
     },
     "execution_count": 101,
     "metadata": {},
     "output_type": "execute_result"
    }
   ],
   "source": [
    "def taat(query,index, k):\n",
    "    # Appliquer l'algorithme de TAAT\n",
    "    vocabulary = index.keys()\n",
    "    terms = dict((k,index[k]) for k in preprocess(query) if k in index)\n",
    "    print(terms)\n",
    "    res = {}\n",
    "    h = []\n",
    "        \n",
    "    for k,v in terms.items():\n",
    "        for k2,v2 in v.items():\n",
    "            if k2 in res.keys():\n",
    "                res[k2] += v2\n",
    "            else:\n",
    "                res[k2] = v2\n",
    "            hq.heappush(h, (k2, res[k2]))\n",
    "    return sorted(res.items(), key=lambda x:x[1], reverse=True)\n",
    "        \n",
    "index = index_inverse(corpus)\n",
    "query = \"new home\"\n",
    "taat(query, index,3)"
   ]
  },
  {
   "cell_type": "markdown",
   "id": "26fc24a7",
   "metadata": {},
   "source": [
    "### DAAT Algorithm"
   ]
  },
  {
   "cell_type": "code",
   "execution_count": null,
   "id": "a37254e1",
   "metadata": {},
   "outputs": [],
   "source": []
  }
 ],
 "metadata": {
  "kernelspec": {
   "display_name": "Python 3 (ipykernel)",
   "language": "python",
   "name": "python3"
  },
  "language_info": {
   "codemirror_mode": {
    "name": "ipython",
    "version": 3
   },
   "file_extension": ".py",
   "mimetype": "text/x-python",
   "name": "python",
   "nbconvert_exporter": "python",
   "pygments_lexer": "ipython3",
   "version": "3.10.0"
  }
 },
 "nbformat": 4,
 "nbformat_minor": 5
}
